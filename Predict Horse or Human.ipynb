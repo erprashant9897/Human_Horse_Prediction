{
 "cells": [
  {
   "cell_type": "code",
   "execution_count": 1,
   "id": "2a3748ca",
   "metadata": {},
   "outputs": [],
   "source": [
    "import numpy as np\n",
    "\n",
    "import keras \n",
    "from keras.preprocessing.image import ImageDataGenerator"
   ]
  },
  {
   "cell_type": "code",
   "execution_count": 2,
   "id": "04543cec",
   "metadata": {},
   "outputs": [],
   "source": [
    "model_path1 = './dataset/horse_or_human_predictor.h5' #new model.ipynb\n",
    "model_path2 = './dataset/horse_human_cnn_model_v2_1.h5' #v2 solve overfitting Horse_or_human Classification using CNN.ipynb\n",
    "\n",
    "model1 = keras.models.load_model(model_path1)\n",
    "model2 = keras.models.load_model(model_path2)"
   ]
  },
  {
   "cell_type": "code",
   "execution_count": 3,
   "id": "e1ba0637",
   "metadata": {},
   "outputs": [],
   "source": [
    "#horse image path\n",
    "h1 = './dataset/test/horses/hrf1.jfif'\n",
    "h2 = './dataset/test/horses/hrf2.jfif'\n",
    "h3 = './dataset/test/horses/hrf3.jfif'\n",
    "\n",
    "#human image path\n",
    "hu1 = './dataset/test/humans/hu1.jpg'\n",
    "hu2 = './dataset/test/humans/hu2 (2).jpg'\n",
    "hu3 = './dataset/test/humans/hu3.jpg'"
   ]
  },
  {
   "cell_type": "code",
   "execution_count": 4,
   "id": "d22b24a0",
   "metadata": {},
   "outputs": [],
   "source": [
    "import numpy as np\n",
    "from keras.preprocessing import image\n",
    "\n",
    "\n",
    "def pred_human_horse(model, horse_or_human):\n",
    "  test_image = image.load_img(horse_or_human, target_size = (150, 150))\n",
    "  test_image = image.img_to_array(test_image)/255\n",
    "  test_image = np.expand_dims(test_image, axis = 0)\n",
    " \n",
    "  result = model.predict(test_image).round(3)\n",
    " \n",
    "  pred = np.argmax(result)\n",
    "  print(result, \"--->>>\", pred)\n",
    " \n",
    "  if pred == 0:\n",
    "    print('Predicted>>> Horse')\n",
    "  else:\n",
    "    print('Predicted>>> Human')"
   ]
  },
  {
   "cell_type": "code",
   "execution_count": 5,
   "id": "b5146286",
   "metadata": {},
   "outputs": [
    {
     "name": "stdout",
     "output_type": "stream",
     "text": [
      "[[0.997 0.003]] --->>> 0\n",
      "Predicted>>> Horse\n",
      "[[0. 1.]] --->>> 1\n",
      "Predicted>>> Human\n",
      "[[0.384 0.616]] --->>> 1\n",
      "Predicted>>> Human\n",
      "[[0.991 0.009]] --->>> 0\n",
      "Predicted>>> Horse\n",
      "[[0.001 0.999]] --->>> 1\n",
      "Predicted>>> Human\n",
      "[[0.698 0.302]] --->>> 0\n",
      "Predicted>>> Horse\n"
     ]
    }
   ],
   "source": [
    "for horse_or_human in [h1,h2,h3, hu1,hu2,hu3]:\n",
    "    pred_human_horse(model1, horse_or_human)\n",
    "\n"
   ]
  },
  {
   "cell_type": "code",
   "execution_count": 6,
   "id": "36400bb2",
   "metadata": {},
   "outputs": [
    {
     "name": "stdout",
     "output_type": "stream",
     "text": [
      "[[1. 0.]] --->>> 0\n",
      "Predicted>>> Horse\n",
      "[[0.981 0.019]] --->>> 0\n",
      "Predicted>>> Horse\n",
      "[[0.559 0.441]] --->>> 0\n",
      "Predicted>>> Horse\n",
      "[[0.009 0.991]] --->>> 1\n",
      "Predicted>>> Human\n",
      "[[0. 1.]] --->>> 1\n",
      "Predicted>>> Human\n",
      "[[0.001 0.999]] --->>> 1\n",
      "Predicted>>> Human\n"
     ]
    }
   ],
   "source": [
    "for horse_or_human in [h1,h2,h3, hu1,hu2,hu3]:\n",
    "    pred_human_horse(model2, horse_or_human)"
   ]
  },
  {
   "cell_type": "code",
   "execution_count": null,
   "id": "f6f5db07",
   "metadata": {},
   "outputs": [],
   "source": []
  }
 ],
 "metadata": {
  "kernelspec": {
   "display_name": "Python 3 (ipykernel)",
   "language": "python",
   "name": "python3"
  },
  "language_info": {
   "codemirror_mode": {
    "name": "ipython",
    "version": 3
   },
   "file_extension": ".py",
   "mimetype": "text/x-python",
   "name": "python",
   "nbconvert_exporter": "python",
   "pygments_lexer": "ipython3",
   "version": "3.9.6"
  }
 },
 "nbformat": 4,
 "nbformat_minor": 5
}
